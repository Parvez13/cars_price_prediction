{
 "cells": [
  {
   "cell_type": "markdown",
   "metadata": {},
   "source": [
    "<div class=\"alert alert-block alert-success\">\n",
    "    <h1 align=\"center\">🚗Car Price Prediction</h1>\n",
    "   \n",
    "</div>\n",
    "    \n"
   ]
  },
  {
   "cell_type": "markdown",
   "metadata": {},
   "source": [
    "\n",
    "    \n",
    "### **100,000 UK Used Car Dataset**\n",
    "**100,000 scraped used car listings, cleaned and split into car make.**\n",
    "    \n",
    "### Problem Statement\n",
    "Predict the prices of the used cars using dataset.\n",
    "    \n",
    "### Content\n",
    "The cleaned data set contains information of price, transmission, mileage, fuel type, road tax, miles per gallon (mpg), and engine size.   \n",
    "    \n"
   ]
  },
  {
   "cell_type": "markdown",
   "metadata": {},
   "source": [
    "<a id='100'></a>\n",
    "<div class=\"list-group\" id=\"list-tab\" role=\"tablist\">\n",
    "<p style=\"padding: 20px; background-color:lightblue;color: Black;font-weight: bold;\n",
    "          text-align: center; font-size:250%;border-radius:20px 80px;\">📝 TABLE OF CONTENTS</p>"
   ]
  },
  {
   "cell_type": "markdown",
   "metadata": {},
   "source": [
    "* [1.Importing Libraries](#1)\n",
    "\n",
    "* [2.Load the data](#2)\n",
    "    \n",
    "* [3.Meta information of dataframe](#3)\n",
    "    \n",
    "* [4.Duplicated rows.](#4)\n",
    "\n",
    "* [5.Handling Missing Values.](#5)\n",
    "    \n",
    "* [6.Statistical information of Dataframe](#6) \n",
    "\n",
    "* [7.Categorical Features Into Numerical](#7)\n",
    "\n",
    "* [8.Correlation](#8)\n",
    "\n",
    "* [9.EDA & Visualization](#9)\n",
    "\n",
    "* [10.Split training and testing](#10)\n",
    "\n",
    "* [11.Modelling](#11)\n",
    "\n",
    "* [12.Evaluation Metric](#12)\n",
    "\n",
    "* [13.Feature Importance](#13)"
   ]
  },
  {
   "cell_type": "markdown",
   "metadata": {},
   "source": [
    "<a id=\"1\"></a>\n",
    "<div class=\"list-group\" id=\"1\" role=\"tablist\">\n",
    "<p style=\"padding: 20px; background-color:yellow;color: Black;font-weight: bold;\n",
    "              text-align: center; font-size:250%;border-radius:20px 80px;\">Importing Libraries</p>"
   ]
  },
  {
   "cell_type": "code",
   "execution_count": 9,
   "metadata": {
    "execution": {
     "iopub.execute_input": "2021-10-20T02:03:36.184604Z",
     "iopub.status.busy": "2021-10-20T02:03:36.184224Z",
     "iopub.status.idle": "2021-10-20T02:03:36.214351Z",
     "shell.execute_reply": "2021-10-20T02:03:36.213271Z",
     "shell.execute_reply.started": "2021-10-20T02:03:36.184559Z"
    }
   },
   "outputs": [
    {
     "ename": "ModuleNotFoundError",
     "evalue": "No module named 'xgboost'",
     "output_type": "error",
     "traceback": [
      "\u001b[1;31m---------------------------------------------------------------------------\u001b[0m",
      "\u001b[1;31mModuleNotFoundError\u001b[0m                       Traceback (most recent call last)",
      "\u001b[1;32m~\\AppData\\Local\\Temp/ipykernel_27956/4043442139.py\u001b[0m in \u001b[0;36m<module>\u001b[1;34m\u001b[0m\n\u001b[0;32m     14\u001b[0m \u001b[1;32mfrom\u001b[0m \u001b[0msklearn\u001b[0m\u001b[1;33m.\u001b[0m\u001b[0mensemble\u001b[0m \u001b[1;32mimport\u001b[0m \u001b[0mGradientBoostingRegressor\u001b[0m\u001b[1;33m,\u001b[0m\u001b[0mRandomForestRegressor\u001b[0m\u001b[1;33m\u001b[0m\u001b[1;33m\u001b[0m\u001b[0m\n\u001b[0;32m     15\u001b[0m \u001b[1;32mfrom\u001b[0m \u001b[0msklearn\u001b[0m\u001b[1;33m.\u001b[0m\u001b[0mtree\u001b[0m \u001b[1;32mimport\u001b[0m \u001b[0mDecisionTreeRegressor\u001b[0m\u001b[1;33m\u001b[0m\u001b[1;33m\u001b[0m\u001b[0m\n\u001b[1;32m---> 16\u001b[1;33m \u001b[1;32mfrom\u001b[0m \u001b[0mxgboost\u001b[0m \u001b[1;32mimport\u001b[0m \u001b[0mXGBRegressor\u001b[0m\u001b[1;33m\u001b[0m\u001b[1;33m\u001b[0m\u001b[0m\n\u001b[0m\u001b[0;32m     17\u001b[0m \u001b[1;32mfrom\u001b[0m \u001b[0mcatboost\u001b[0m \u001b[1;32mimport\u001b[0m \u001b[0mCatBoostRegressor\u001b[0m\u001b[1;33m\u001b[0m\u001b[1;33m\u001b[0m\u001b[0m\n\u001b[0;32m     18\u001b[0m \u001b[1;32mfrom\u001b[0m \u001b[0mlightgbm\u001b[0m \u001b[1;32mimport\u001b[0m \u001b[0mLGBMRegressor\u001b[0m\u001b[1;33m\u001b[0m\u001b[1;33m\u001b[0m\u001b[0m\n",
      "\u001b[1;31mModuleNotFoundError\u001b[0m: No module named 'xgboost'"
     ]
    }
   ],
   "source": [
    "import numpy as np\n",
    "import pandas as pd\n",
    "import matplotlib.pyplot as plt\n",
    "import seaborn as sns\n",
    "import missingno\n",
    "\n",
    "from sklearn.metrics import r2_score, mean_absolute_error, mean_squared_error\n",
    "from sklearn.model_selection import train_test_split\n",
    "\n",
    "import warnings\n",
    "warnings.filterwarnings('ignore')\n",
    "\n",
    "from sklearn.linear_model import LinearRegression\n",
    "from sklearn.ensemble import GradientBoostingRegressor,RandomForestRegressor\n",
    "from sklearn.tree import DecisionTreeRegressor\n",
    "from xgboost import XGBRegressor\n",
    "from catboost import CatBoostRegressor\n",
    "from lightgbm import LGBMRegressor\n",
    "\n",
    "import cufflinks as cf\n",
    "import plotly.offline\n",
    "cf.go_offline()\n",
    "cf.set_config_file(offline=False, world_readable=True)\n",
    "import plotly \n",
    "import plotly.express as px\n",
    "import plotly.graph_objs as go\n",
    "import plotly.offline as py\n",
    "from plotly.offline import iplot\n",
    "from plotly.subplots import make_subplots\n",
    "import plotly.figure_factory as ff\n",
    "from plotly import tools\n",
    "\n",
    "\n",
    "%matplotlib inline \n",
    "\n"
   ]
  },
  {
   "cell_type": "code",
   "execution_count": 11,
   "metadata": {},
   "outputs": [
    {
     "name": "stdout",
     "output_type": "stream",
     "text": [
      "Note: you may need to restart the kernel to use updated packages.\n"
     ]
    },
    {
     "name": "stderr",
     "output_type": "stream",
     "text": [
      "The filename, directory name, or volume label syntax is incorrect.\n"
     ]
    }
   ],
   "source": [
    "pip install xgboost"
   ]
  },
  {
   "cell_type": "markdown",
   "metadata": {},
   "source": [
    "<a id=\"2\"></a>\n",
    "<div class=\"list-group\" id=\"1\" role=\"tablist\">\n",
    "<p style=\"padding: 20px; background-color:yellow;color: Black;font-weight: bold;\n",
    "              text-align: center; font-size:250%;border-radius:20px 80px;\">Load Data</p>"
   ]
  },
  {
   "cell_type": "markdown",
   "metadata": {},
   "source": [
    "### Data Description\n",
    "\n",
    "* **Model:** Model type.\n",
    "* **Year:** Registration Year.\n",
    "* **Price:** Price in euros.\n",
    "* **Transmission:** Type of Gearbos.\n",
    "* **Mileage:** Distance Used.\n",
    "* **FuelType:** Engine Fuel.\n",
    "* **Tax:** Road Tax.\n",
    "* **mpg:** Miles per Gallon.\n",
    "* **EngineSize:** Size in litres.\n",
    "* **Brand:** Name of the car brand."
   ]
  },
  {
   "cell_type": "code",
   "execution_count": null,
   "metadata": {
    "execution": {
     "iopub.execute_input": "2021-10-20T02:03:36.217570Z",
     "iopub.status.busy": "2021-10-20T02:03:36.216978Z",
     "iopub.status.idle": "2021-10-20T02:03:36.410206Z",
     "shell.execute_reply": "2021-10-20T02:03:36.409103Z",
     "shell.execute_reply.started": "2021-10-20T02:03:36.217518Z"
    }
   },
   "outputs": [],
   "source": [
    "# Different Car's dataset\n",
    "audi = pd.read_csv(\"../input/used-car-dataset-ford-and-mercedes/audi.csv\")\n",
    "bmw = pd.read_csv(\"../input/used-car-dataset-ford-and-mercedes/bmw.csv\")\n",
    "ford = pd.read_csv(\"../input/used-car-dataset-ford-and-mercedes/ford.csv\")\n",
    "hyundi = pd.read_csv(\"../input/used-car-dataset-ford-and-mercedes/hyundi.csv\")\n",
    "merc = pd.read_csv(\"../input/used-car-dataset-ford-and-mercedes/merc.csv\")\n",
    "skoda = pd.read_csv(\"../input/used-car-dataset-ford-and-mercedes/skoda.csv\")\n",
    "toyota = pd.read_csv(\"../input/used-car-dataset-ford-and-mercedes/toyota.csv\")\n",
    "vauxhall = pd.read_csv(\"../input/used-car-dataset-ford-and-mercedes/vauxhall.csv\")\n",
    "vw = pd.read_csv(\"../input/used-car-dataset-ford-and-mercedes/vw.csv\")"
   ]
  },
  {
   "cell_type": "markdown",
   "metadata": {},
   "source": [
    "**We are having different datasets for different brands.So, importing all of them.**"
   ]
  },
  {
   "cell_type": "code",
   "execution_count": null,
   "metadata": {
    "execution": {
     "iopub.execute_input": "2021-10-20T02:03:36.411965Z",
     "iopub.status.busy": "2021-10-20T02:03:36.411698Z",
     "iopub.status.idle": "2021-10-20T02:03:36.424109Z",
     "shell.execute_reply": "2021-10-20T02:03:36.423334Z",
     "shell.execute_reply.started": "2021-10-20T02:03:36.411933Z"
    }
   },
   "outputs": [],
   "source": [
    "audi['brand'] = 'audi'\n",
    "bmw['brand'] = 'bmw'\n",
    "ford['brand'] = 'ford'\n",
    "hyundi['brand'] = 'hyundi'\n",
    "merc['brand'] = 'merc'\n",
    "skoda['brand'] = 'skoda'\n",
    "toyota['brand'] = 'toyota'\n",
    "vauxhall['brand'] = 'vauxhall'\n",
    "vw['brand'] = 'vw'"
   ]
  },
  {
   "cell_type": "markdown",
   "metadata": {},
   "source": [
    "**All datasets does not contain separate column for brand. So, we are creating a columns for brands**"
   ]
  },
  {
   "cell_type": "code",
   "execution_count": null,
   "metadata": {
    "execution": {
     "iopub.execute_input": "2021-10-20T02:03:36.426735Z",
     "iopub.status.busy": "2021-10-20T02:03:36.426102Z",
     "iopub.status.idle": "2021-10-20T02:03:36.473771Z",
     "shell.execute_reply": "2021-10-20T02:03:36.473080Z",
     "shell.execute_reply.started": "2021-10-20T02:03:36.426693Z"
    }
   },
   "outputs": [],
   "source": [
    "df = pd.concat([audi,bmw,\n",
    "               ford,hyundi,merc,skoda,toyota,\n",
    "               vauxhall,vw])\n",
    "df.head()"
   ]
  },
  {
   "cell_type": "markdown",
   "metadata": {},
   "source": [
    "**Concat all the different brands dataset into a single dataframe.**"
   ]
  },
  {
   "cell_type": "code",
   "execution_count": null,
   "metadata": {
    "execution": {
     "iopub.execute_input": "2021-10-20T02:03:36.475909Z",
     "iopub.status.busy": "2021-10-20T02:03:36.475468Z",
     "iopub.status.idle": "2021-10-20T02:03:36.493639Z",
     "shell.execute_reply": "2021-10-20T02:03:36.492679Z",
     "shell.execute_reply.started": "2021-10-20T02:03:36.475860Z"
    }
   },
   "outputs": [],
   "source": [
    "df.tail()"
   ]
  },
  {
   "cell_type": "code",
   "execution_count": null,
   "metadata": {
    "execution": {
     "iopub.execute_input": "2021-10-20T02:03:36.495157Z",
     "iopub.status.busy": "2021-10-20T02:03:36.494895Z",
     "iopub.status.idle": "2021-10-20T02:03:36.513358Z",
     "shell.execute_reply": "2021-10-20T02:03:36.512473Z",
     "shell.execute_reply.started": "2021-10-20T02:03:36.495125Z"
    }
   },
   "outputs": [],
   "source": [
    "# drop tax column\n",
    "df.drop('tax(£)',axis=1,inplace=True)\n"
   ]
  },
  {
   "cell_type": "markdown",
   "metadata": {},
   "source": [
    "**Droping the `tax(£)` column. Because we have already `tax` columns without any *null values***"
   ]
  },
  {
   "cell_type": "code",
   "execution_count": null,
   "metadata": {
    "execution": {
     "iopub.execute_input": "2021-10-20T02:03:36.515824Z",
     "iopub.status.busy": "2021-10-20T02:03:36.515216Z",
     "iopub.status.idle": "2021-10-20T02:03:36.541670Z",
     "shell.execute_reply": "2021-10-20T02:03:36.540511Z",
     "shell.execute_reply.started": "2021-10-20T02:03:36.515771Z"
    }
   },
   "outputs": [],
   "source": [
    "df"
   ]
  },
  {
   "cell_type": "markdown",
   "metadata": {},
   "source": [
    "**Dataframe with all datasets concated**"
   ]
  },
  {
   "cell_type": "code",
   "execution_count": null,
   "metadata": {
    "execution": {
     "iopub.execute_input": "2021-10-20T02:03:36.543932Z",
     "iopub.status.busy": "2021-10-20T02:03:36.543173Z",
     "iopub.status.idle": "2021-10-20T02:03:36.581676Z",
     "shell.execute_reply": "2021-10-20T02:03:36.580726Z",
     "shell.execute_reply.started": "2021-10-20T02:03:36.543890Z"
    }
   },
   "outputs": [],
   "source": [
    "# shuffle the dataset\n",
    "df = df.sample(frac=1)\n",
    "df"
   ]
  },
  {
   "cell_type": "markdown",
   "metadata": {},
   "source": [
    "**The new dataframe with `brand` columns is lined one after one like `audi->bmw->......->vw`. But to pass this dataframe to our model for training it is not a good practise. So, to avoid that we are shuffle 10% of dataframe**"
   ]
  },
  {
   "cell_type": "markdown",
   "metadata": {},
   "source": [
    "<a id=\"3\"></a>\n",
    "<div class=\"list-group\" id=\"1\" role=\"tablist\">\n",
    "<p style=\"padding: 20px; background-color:yellow;color: Black;font-weight: bold;\n",
    "              text-align: center; font-size:250%;border-radius:20px 80px;\">Meta Information about DataFrame</p>"
   ]
  },
  {
   "cell_type": "code",
   "execution_count": null,
   "metadata": {
    "execution": {
     "iopub.execute_input": "2021-10-20T02:03:36.583669Z",
     "iopub.status.busy": "2021-10-20T02:03:36.583356Z",
     "iopub.status.idle": "2021-10-20T02:03:36.645762Z",
     "shell.execute_reply": "2021-10-20T02:03:36.644534Z",
     "shell.execute_reply.started": "2021-10-20T02:03:36.583636Z"
    }
   },
   "outputs": [],
   "source": [
    "# info\n",
    "df.info()"
   ]
  },
  {
   "cell_type": "markdown",
   "metadata": {},
   "source": [
    "<a id=\"4\"></a>\n",
    "<div class=\"list-group\" id=\"1\" role=\"tablist\">\n",
    "<p style=\"padding: 20px; background-color:yellow;color: Black;font-weight: bold;\n",
    "              text-align: center; font-size:250%;border-radius:20px 80px;\">Duplicated Rows</p>"
   ]
  },
  {
   "cell_type": "markdown",
   "metadata": {},
   "source": [
    "\n"
   ]
  },
  {
   "cell_type": "code",
   "execution_count": null,
   "metadata": {
    "execution": {
     "iopub.execute_input": "2021-10-20T02:03:36.649705Z",
     "iopub.status.busy": "2021-10-20T02:03:36.649020Z",
     "iopub.status.idle": "2021-10-20T02:03:36.724227Z",
     "shell.execute_reply": "2021-10-20T02:03:36.723232Z",
     "shell.execute_reply.started": "2021-10-20T02:03:36.649648Z"
    }
   },
   "outputs": [],
   "source": [
    "#check for dublicated rows\n",
    "print(\"Numbers of duplicated rows :\",df.duplicated().sum())"
   ]
  },
  {
   "cell_type": "code",
   "execution_count": null,
   "metadata": {
    "execution": {
     "iopub.execute_input": "2021-10-20T02:03:36.725569Z",
     "iopub.status.busy": "2021-10-20T02:03:36.725326Z",
     "iopub.status.idle": "2021-10-20T02:03:36.863511Z",
     "shell.execute_reply": "2021-10-20T02:03:36.862640Z",
     "shell.execute_reply.started": "2021-10-20T02:03:36.725540Z"
    }
   },
   "outputs": [],
   "source": [
    "#dropping the duplicated rows \n",
    "df=df.drop_duplicates(keep=\"first\")\n",
    "print(\"After removing,now number of duplicated rows are:\",df.duplicated().sum())"
   ]
  },
  {
   "cell_type": "markdown",
   "metadata": {},
   "source": [
    "<a id=\"5\"></a>\n",
    "<div class=\"list-group\" id=\"1\" role=\"tablist\">\n",
    "<p style=\"padding: 20px; background-color:yellow;color: Black;font-weight: bold;\n",
    "              text-align: center; font-size:250%;border-radius:20px 80px;\">Handling Missing Values</p>"
   ]
  },
  {
   "cell_type": "code",
   "execution_count": null,
   "metadata": {
    "execution": {
     "iopub.execute_input": "2021-10-20T02:03:36.865264Z",
     "iopub.status.busy": "2021-10-20T02:03:36.865041Z",
     "iopub.status.idle": "2021-10-20T02:03:37.727140Z",
     "shell.execute_reply": "2021-10-20T02:03:37.726128Z",
     "shell.execute_reply.started": "2021-10-20T02:03:36.865229Z"
    }
   },
   "outputs": [],
   "source": [
    "# Check any null values\n",
    "missingno.matrix(df)"
   ]
  },
  {
   "cell_type": "markdown",
   "metadata": {},
   "source": [
    "**Only `tax` column contains `null` values when compared with other columns**"
   ]
  },
  {
   "cell_type": "code",
   "execution_count": null,
   "metadata": {
    "execution": {
     "iopub.execute_input": "2021-10-20T02:03:37.728424Z",
     "iopub.status.busy": "2021-10-20T02:03:37.728198Z",
     "iopub.status.idle": "2021-10-20T02:03:37.734339Z",
     "shell.execute_reply": "2021-10-20T02:03:37.733436Z",
     "shell.execute_reply.started": "2021-10-20T02:03:37.728397Z"
    }
   },
   "outputs": [],
   "source": [
    "df['tax'].fillna(df['tax'].mean(),inplace=True)\n"
   ]
  },
  {
   "cell_type": "code",
   "execution_count": null,
   "metadata": {
    "execution": {
     "iopub.execute_input": "2021-10-20T02:03:37.735784Z",
     "iopub.status.busy": "2021-10-20T02:03:37.735553Z",
     "iopub.status.idle": "2021-10-20T02:03:38.563105Z",
     "shell.execute_reply": "2021-10-20T02:03:38.562513Z",
     "shell.execute_reply.started": "2021-10-20T02:03:37.735755Z"
    }
   },
   "outputs": [],
   "source": [
    "missingno.matrix(df)"
   ]
  },
  {
   "cell_type": "markdown",
   "metadata": {},
   "source": [
    "**Now they are no null values**"
   ]
  },
  {
   "cell_type": "markdown",
   "metadata": {},
   "source": [
    "<a id=\"6\"></a>\n",
    "<div class=\"list-group\" id=\"1\" role=\"tablist\">\n",
    "<p style=\"padding: 20px; background-color:yellow;color: Black;font-weight: bold;\n",
    "              text-align: center; font-size:250%;border-radius:20px 80px;\">Statistical Information about DataFrame</p>"
   ]
  },
  {
   "cell_type": "code",
   "execution_count": null,
   "metadata": {
    "execution": {
     "iopub.execute_input": "2021-10-20T02:03:38.564890Z",
     "iopub.status.busy": "2021-10-20T02:03:38.564619Z",
     "iopub.status.idle": "2021-10-20T02:03:38.620396Z",
     "shell.execute_reply": "2021-10-20T02:03:38.619598Z",
     "shell.execute_reply.started": "2021-10-20T02:03:38.564858Z"
    }
   },
   "outputs": [],
   "source": [
    "# describe\n",
    "df.describe().T.style.bar(subset=['mean'], color='#205ff2').background_gradient(\n",
    "subset=['std'],cmap='mako').background_gradient(subset=['50%'],cmap='coolwarm')"
   ]
  },
  {
   "cell_type": "markdown",
   "metadata": {},
   "source": [
    "<a id=\"7\"></a>\n",
    "<div class=\"list-group\" id=\"1\" role=\"tablist\">\n",
    "<p style=\"padding: 20px; background-color:yellow;color: Black;font-weight: bold;\n",
    "              text-align: center; font-size:250%;border-radius:20px 80px;\">Categorical Features Into Numerical Features</p>"
   ]
  },
  {
   "cell_type": "code",
   "execution_count": null,
   "metadata": {
    "execution": {
     "iopub.execute_input": "2021-10-20T02:03:38.621911Z",
     "iopub.status.busy": "2021-10-20T02:03:38.621638Z",
     "iopub.status.idle": "2021-10-20T02:03:38.647536Z",
     "shell.execute_reply": "2021-10-20T02:03:38.646744Z",
     "shell.execute_reply.started": "2021-10-20T02:03:38.621880Z"
    }
   },
   "outputs": [],
   "source": [
    "df_1 =df.copy()\n",
    "df_1"
   ]
  },
  {
   "cell_type": "code",
   "execution_count": null,
   "metadata": {
    "execution": {
     "iopub.execute_input": "2021-10-20T02:03:38.649808Z",
     "iopub.status.busy": "2021-10-20T02:03:38.648994Z",
     "iopub.status.idle": "2021-10-20T02:03:38.655521Z",
     "shell.execute_reply": "2021-10-20T02:03:38.654653Z",
     "shell.execute_reply.started": "2021-10-20T02:03:38.649771Z"
    }
   },
   "outputs": [],
   "source": [
    "def preprocess_data(df):\n",
    "    \n",
    "    \"\"\"\n",
    "    Performs transformation on df and returns transformed df.\n",
    "    \n",
    "    \"\"\"\n",
    "    for label,content in df.items():\n",
    "   \n",
    "        #Filled categoricnaL missing data and turned categories into numbers \n",
    "        if not pd.api.types.is_numeric_dtype(content):\n",
    "         # We add +1 to the category code because pandas encodes missing categories as -1\n",
    "           df[label] = pd.Categorical(content).codes+1\n",
    "    \n",
    "    return df"
   ]
  },
  {
   "cell_type": "code",
   "execution_count": null,
   "metadata": {
    "execution": {
     "iopub.execute_input": "2021-10-20T02:03:38.656958Z",
     "iopub.status.busy": "2021-10-20T02:03:38.656695Z",
     "iopub.status.idle": "2021-10-20T02:03:38.729263Z",
     "shell.execute_reply": "2021-10-20T02:03:38.728295Z",
     "shell.execute_reply.started": "2021-10-20T02:03:38.656928Z"
    }
   },
   "outputs": [],
   "source": [
    "df_transformed = preprocess_data(df_1)\n",
    "df_transformed.head()"
   ]
  },
  {
   "cell_type": "markdown",
   "metadata": {},
   "source": [
    "**Turning Categorical values into Numerical values**"
   ]
  },
  {
   "cell_type": "markdown",
   "metadata": {},
   "source": [
    "<a id=\"8\"></a>\n",
    "<div class=\"list-group\" id=\"1\" role=\"tablist\">\n",
    "<p style=\"padding: 20px; background-color:yellow;color: Black;font-weight: bold;\n",
    "              text-align: center; font-size:250%;border-radius:20px 80px;\">Correlation</p>"
   ]
  },
  {
   "cell_type": "code",
   "execution_count": null,
   "metadata": {
    "execution": {
     "iopub.execute_input": "2021-10-20T02:03:38.730568Z",
     "iopub.status.busy": "2021-10-20T02:03:38.730322Z",
     "iopub.status.idle": "2021-10-20T02:03:38.753206Z",
     "shell.execute_reply": "2021-10-20T02:03:38.752204Z",
     "shell.execute_reply.started": "2021-10-20T02:03:38.730538Z"
    }
   },
   "outputs": [],
   "source": [
    "# Check the correlation between target and each of columns\n",
    "df.corr()['price']"
   ]
  },
  {
   "cell_type": "code",
   "execution_count": null,
   "metadata": {
    "execution": {
     "iopub.execute_input": "2021-10-20T02:03:38.754671Z",
     "iopub.status.busy": "2021-10-20T02:03:38.754390Z",
     "iopub.status.idle": "2021-10-20T02:03:39.686597Z",
     "shell.execute_reply": "2021-10-20T02:03:39.685497Z",
     "shell.execute_reply.started": "2021-10-20T02:03:38.754637Z"
    }
   },
   "outputs": [],
   "source": [
    "plt.figure(figsize=(20,10))\n",
    "\n",
    "# plot heatmap\n",
    "sns.heatmap(df_transformed.corr(), annot=True,cmap='coolwarm', linecolor='black')"
   ]
  },
  {
   "cell_type": "markdown",
   "metadata": {},
   "source": [
    "**The columns `year`,`transmission`,`tax`,`engineSize` are having more *correlation* with *price***"
   ]
  },
  {
   "cell_type": "markdown",
   "metadata": {},
   "source": [
    "<a id=\"9\"></a>\n",
    "<div class=\"list-group\" id=\"1\" role=\"tablist\">\n",
    "<p style=\"padding: 20px; background-color:yellow;color: Black;font-weight: bold;\n",
    "              text-align: center; font-size:250%;border-radius:20px 80px;\">EDA & Visualization</p>"
   ]
  },
  {
   "cell_type": "code",
   "execution_count": null,
   "metadata": {
    "execution": {
     "iopub.execute_input": "2021-10-20T02:03:39.688786Z",
     "iopub.status.busy": "2021-10-20T02:03:39.688225Z",
     "iopub.status.idle": "2021-10-20T02:03:41.696234Z",
     "shell.execute_reply": "2021-10-20T02:03:41.695549Z",
     "shell.execute_reply.started": "2021-10-20T02:03:39.688746Z"
    }
   },
   "outputs": [],
   "source": [
    "plot_columns=[ 'transmission','fuelType','brand']\n",
    "colors = [\"#00FFFF\",\"#FFA500\",\"#ADD8E6\",\"#ED00D9\",\"#ED1400\",\"#EAE7C6\",\"#CF6523\",\"#99ACD2\",\"#4EBA73\",\"#DDA8D7\"]\n",
    "textprops = {\"fontsize\":22}\n",
    "i=1\n",
    "plt.figure(figsize=(45,95))\n",
    "for col in plot_columns:\n",
    "    plt.subplot(11,2,i)\n",
    "    sns.countplot(data=df,x=col,palette='gist_rainbow',order=df[col].value_counts().index)\n",
    "    plt.xticks(fontsize=25)\n",
    "    plt.yticks(fontsize=25)\n",
    "    plt.xlabel(col,fontsize=25)\n",
    "    plt.ylabel('count',fontsize=25)\n",
    "    i=i+1\n",
    "    plt.subplot(11,2,i)\n",
    "    df[col].value_counts().plot(kind='pie',autopct='%.2f%%',\n",
    "                               colors=colors,textprops=textprops,shadow=True,radius=1.1)\n",
    "    plt.xticks(fontsize=25)\n",
    "    plt.yticks(fontsize=25)\n",
    "    plt.xlabel(col,fontsize=25)\n",
    "    plt.ylabel('count',fontsize=25)\n",
    "    i=i+1\n",
    "    \n",
    "plt.show()"
   ]
  },
  {
   "cell_type": "markdown",
   "metadata": {},
   "source": [
    "**1) First Figure has value counts for `transmission` columns with `Manual`,`Semi-Auto`,`Automatic`,`other`. Here `Manual` transmission has more value counts when compared with other transmission.**\n",
    "\n",
    "**2) Second Figure has value counts for `fuelType` columns with `Petrol`,`Diesel`,`Hybrid`,`other`,`Electric`. Here `Petrol` fuelType has more value counts when compared with other fuelType.**\n",
    "\n",
    "**3) Third Figure has value counts for `brand` columns with all different brands. Here `ford` brand has more value counts when compared with other brands**"
   ]
  },
  {
   "cell_type": "code",
   "execution_count": null,
   "metadata": {
    "execution": {
     "iopub.execute_input": "2021-10-20T02:03:41.698148Z",
     "iopub.status.busy": "2021-10-20T02:03:41.697343Z",
     "iopub.status.idle": "2021-10-20T02:03:50.719577Z",
     "shell.execute_reply": "2021-10-20T02:03:50.718915Z",
     "shell.execute_reply.started": "2021-10-20T02:03:41.698108Z"
    }
   },
   "outputs": [],
   "source": [
    "# model\n",
    "plt.figure(figsize=(25,5))\n",
    "sns.countplot(x='model',data=df[:5000])\n",
    "plt.title(\"Model\",fontsize=15)\n",
    "plt.xticks(rotation=90)\n",
    "plt.show();\n",
    "\n",
    "plt.figure(figsize=(25,5))\n",
    "sns.countplot(x='model',data=df[5000:9000])\n",
    "plt.xticks(rotation=90)\n",
    "plt.show();\n"
   ]
  },
  {
   "cell_type": "markdown",
   "metadata": {},
   "source": [
    "**Value counts for `model` columns upto 9000 records**"
   ]
  },
  {
   "cell_type": "code",
   "execution_count": null,
   "metadata": {
    "execution": {
     "iopub.execute_input": "2021-10-20T02:03:50.722053Z",
     "iopub.status.busy": "2021-10-20T02:03:50.721230Z",
     "iopub.status.idle": "2021-10-20T02:03:54.295509Z",
     "shell.execute_reply": "2021-10-20T02:03:54.294511Z",
     "shell.execute_reply.started": "2021-10-20T02:03:50.722010Z"
    }
   },
   "outputs": [],
   "source": [
    "# Plot scatterplot between price and  year\n",
    "plt.figure(figsize=(25,5))\n",
    "sns.scatterplot(x='model',y='year',data=df[:1000],hue='fuelType',s=150)\n",
    "plt.title(\"Model Vs Year\")\n",
    "plt.xlabel(\"Model\",fontsize=15)\n",
    "plt.ylabel(\"Year\",fontsize=15)\n",
    "plt.xticks(rotation=90,fontsize=12,fontstyle='oblique')\n",
    "plt.show();"
   ]
  },
  {
   "cell_type": "markdown",
   "metadata": {},
   "source": [
    "**This plot shows relation between `model` and `year` with `fuelType`**.\n",
    "**Here we can see that most of the models from year 2006-2020 having `Diesel` and `Petrol` fueltype.**"
   ]
  },
  {
   "cell_type": "code",
   "execution_count": null,
   "metadata": {
    "execution": {
     "iopub.execute_input": "2021-10-20T02:03:54.297223Z",
     "iopub.status.busy": "2021-10-20T02:03:54.296990Z",
     "iopub.status.idle": "2021-10-20T02:03:58.093917Z",
     "shell.execute_reply": "2021-10-20T02:03:58.093061Z",
     "shell.execute_reply.started": "2021-10-20T02:03:54.297196Z"
    }
   },
   "outputs": [],
   "source": [
    "# Plot scatterplot between price and  year\n",
    "plt.figure(figsize=(25,5))\n",
    "sns.scatterplot(x='model',y='year',data=df[:1000],hue='transmission',s=150,palette=['yellow','lightgreen','black'],legend='full')\n",
    "plt.title(\"Model Vs Year\")\n",
    "plt.xlabel(\"Model\",fontsize=15)\n",
    "plt.ylabel(\"Year\",fontsize=15)\n",
    "plt.xticks(rotation=90,fontsize=12,fontstyle='oblique')\n",
    "plt.show();"
   ]
  },
  {
   "cell_type": "markdown",
   "metadata": {},
   "source": [
    "**This plot shows relation between `model` and `year` with `transmission`**.\n",
    "**Here we can see that most of the models from year 2006-2020 having `Manual` transmission.**"
   ]
  },
  {
   "cell_type": "code",
   "execution_count": null,
   "metadata": {
    "execution": {
     "iopub.execute_input": "2021-10-20T02:03:58.095602Z",
     "iopub.status.busy": "2021-10-20T02:03:58.095254Z",
     "iopub.status.idle": "2021-10-20T02:04:01.733564Z",
     "shell.execute_reply": "2021-10-20T02:04:01.732514Z",
     "shell.execute_reply.started": "2021-10-20T02:03:58.095566Z"
    }
   },
   "outputs": [],
   "source": [
    "# Plot scatterplot between price and  year\n",
    "plt.figure(figsize=(25,5))\n",
    "sns.scatterplot(x='model',y='price',data=df[:1000],hue='fuelType',s=100,palette=['green','brown','dodgerblue','red'],legend='full')\n",
    "plt.title(\"Model Vs price\")\n",
    "plt.xlabel(\"Model\",fontsize=15)\n",
    "plt.ylabel(\"Price\",fontsize=15)\n",
    "plt.xticks(rotation=90,fontsize=12,fontstyle='oblique')\n",
    "plt.show();"
   ]
  },
  {
   "cell_type": "markdown",
   "metadata": {},
   "source": [
    "**Most of the `models` having high price with `Diesel` fuelType and the second highest is `Petrol`**"
   ]
  },
  {
   "cell_type": "code",
   "execution_count": null,
   "metadata": {
    "execution": {
     "iopub.execute_input": "2021-10-20T02:04:01.735356Z",
     "iopub.status.busy": "2021-10-20T02:04:01.735057Z",
     "iopub.status.idle": "2021-10-20T02:04:05.312547Z",
     "shell.execute_reply": "2021-10-20T02:04:05.311661Z",
     "shell.execute_reply.started": "2021-10-20T02:04:01.735320Z"
    }
   },
   "outputs": [],
   "source": [
    "# Plot scatterplot between price and  year\n",
    "plt.figure(figsize=(25,5))\n",
    "sns.scatterplot(x='model',y='price',data=df[:1000],hue='transmission',s=100,palette=['blue','maroon','grey'],legend='full')\n",
    "plt.title(\"Model Vs price\")\n",
    "plt.ylabel(\"Price\",fontsize=15)\n",
    "plt.xlabel(\"Model\",fontsize=15)\n",
    "plt.xticks(rotation=90,fontsize=12,fontstyle='oblique')\n",
    "plt.show();"
   ]
  },
  {
   "cell_type": "markdown",
   "metadata": {},
   "source": [
    "**Most of the `models` having high price with `Manual` transmission and the second highest is `Automatic`**"
   ]
  },
  {
   "cell_type": "code",
   "execution_count": null,
   "metadata": {
    "execution": {
     "iopub.execute_input": "2021-10-20T02:04:05.314085Z",
     "iopub.status.busy": "2021-10-20T02:04:05.313837Z",
     "iopub.status.idle": "2021-10-20T02:04:07.152074Z",
     "shell.execute_reply": "2021-10-20T02:04:07.151343Z",
     "shell.execute_reply.started": "2021-10-20T02:04:05.314054Z"
    }
   },
   "outputs": [],
   "source": [
    "plt.figure(figsize=(10,5))\n",
    "sns.pointplot(x='transmission',y='year',data=df,hue='fuelType')\n",
    "plt.title(\"Tranmssion With Mileage\")\n",
    "plt.xlabel('Transmission',fontsize=15)\n",
    "plt.ylabel('Mileage',fontsize=15)\n",
    "plt.legend(bbox_to_anchor=(1.2,1.0),title='FuelType')\n",
    "plt.grid(True)\n",
    "plt.show();"
   ]
  },
  {
   "cell_type": "markdown",
   "metadata": {},
   "source": [
    "**This is a `pairplot` showing relationship between `transmission` and `year`. Clearly, we observe that `Electric` fuelType is mostly used in `Automatic` transmission.The `Diesel` fuelType is in popular and in demand in all transmission till 2017. Then after that the demand for `petrol` has is risen up when compared with `diesel`.**"
   ]
  },
  {
   "cell_type": "code",
   "execution_count": null,
   "metadata": {
    "execution": {
     "iopub.execute_input": "2021-10-20T02:04:07.156729Z",
     "iopub.status.busy": "2021-10-20T02:04:07.156427Z",
     "iopub.status.idle": "2021-10-20T02:04:09.614561Z",
     "shell.execute_reply": "2021-10-20T02:04:09.613721Z",
     "shell.execute_reply.started": "2021-10-20T02:04:07.156684Z"
    }
   },
   "outputs": [],
   "source": [
    "plt.figure(figsize=(10,5))\n",
    "sns.pointplot(x='brand',y='year',data=df,hue='fuelType')\n",
    "plt.title(\"Brand WithYear\")\n",
    "plt.xlabel('Brand',fontsize=15)\n",
    "plt.ylabel('Year',fontsize=15)\n",
    "plt.legend(bbox_to_anchor=(1.2,1.0),title='FuelType')\n",
    "plt.grid(True)\n",
    "plt.show();"
   ]
  },
  {
   "cell_type": "markdown",
   "metadata": {},
   "source": [
    "**The `Electric` fueltype is only used by `bmw` and `vauxhall`.The `Hybrid` fueltype is fluctuating across all brands. `Hybrid` fueltype is mostly used by `skoda` in 2020. The `petrol` and `diesel` fueltypes are commonly in all brands.**"
   ]
  },
  {
   "cell_type": "code",
   "execution_count": null,
   "metadata": {
    "execution": {
     "iopub.execute_input": "2021-10-20T02:04:09.616945Z",
     "iopub.status.busy": "2021-10-20T02:04:09.616244Z",
     "iopub.status.idle": "2021-10-20T02:04:12.492082Z",
     "shell.execute_reply": "2021-10-20T02:04:12.489531Z",
     "shell.execute_reply.started": "2021-10-20T02:04:09.616899Z"
    }
   },
   "outputs": [],
   "source": [
    "plt.figure(figsize=(10,5))\n",
    "sns.stripplot(x='brand',y='price',data=df,hue='transmission')\n",
    "plt.title(\"Brand With Price\")\n",
    "plt.xlabel('Brand',fontsize=15)\n",
    "plt.ylabel('Price',fontsize=15)\n",
    "plt.legend(bbox_to_anchor=(1.2,1.0),title='Transmission')\n",
    "plt.show();"
   ]
  },
  {
   "cell_type": "markdown",
   "metadata": {},
   "source": [
    "**Most of the brands with `semi-auto` transmission having more price across all brands,`bmw` and `mercedes` have more `semi-auto` transmission.The demand for `automatic` transmission is seen in `toyota` brand.The `Manual` transmission is common in all brands, but `mercedes`, `toyota` and `bmw` has less `Manual` transmission. `**"
   ]
  },
  {
   "cell_type": "code",
   "execution_count": null,
   "metadata": {
    "execution": {
     "iopub.execute_input": "2021-10-20T02:04:12.494387Z",
     "iopub.status.busy": "2021-10-20T02:04:12.493512Z",
     "iopub.status.idle": "2021-10-20T02:04:15.637769Z",
     "shell.execute_reply": "2021-10-20T02:04:15.637101Z",
     "shell.execute_reply.started": "2021-10-20T02:04:12.494330Z"
    }
   },
   "outputs": [],
   "source": [
    "plt.figure(figsize=(10,5))\n",
    "sns.stripplot(x='brand',y='year',data=df,hue='fuelType')\n",
    "plt.title(\"Brand with Year\")\n",
    "plt.xlabel('Brand',fontsize=15)\n",
    "plt.ylabel('Year',fontsize=15)\n",
    "plt.legend(bbox_to_anchor=(1.2,1.0),title='FuelType')\n",
    "plt.show();"
   ]
  },
  {
   "cell_type": "markdown",
   "metadata": {},
   "source": [
    "**The most of the brands with different fueltypes are seen in year between 2000-2020. All brands having `Diesel` and `Petrol` fueltype.**"
   ]
  },
  {
   "cell_type": "code",
   "execution_count": null,
   "metadata": {
    "execution": {
     "iopub.execute_input": "2021-10-20T02:04:15.639227Z",
     "iopub.status.busy": "2021-10-20T02:04:15.638931Z",
     "iopub.status.idle": "2021-10-20T02:04:18.017185Z",
     "shell.execute_reply": "2021-10-20T02:04:18.016544Z",
     "shell.execute_reply.started": "2021-10-20T02:04:15.639193Z"
    }
   },
   "outputs": [],
   "source": [
    "sns.set_theme(style=\"darkgrid\")\n",
    "plt.figure(figsize=(10,5))\n",
    "sns.barplot(x='brand',y='mileage',data=df,hue='fuelType')\n",
    "plt.xlabel('Brand',fontsize=15)\n",
    "plt.ylabel('Mileage',fontsize=15)\n",
    "plt.legend(bbox_to_anchor=(1.2,1.0),title='FuelType')\n",
    "plt.grid(True)\n",
    "plt.show();"
   ]
  },
  {
   "cell_type": "markdown",
   "metadata": {},
   "source": [
    "**When it comes to `mileage` the brand which has `Hybrid` has more in demand except `hyundi`, `skoda`. The second and third best fueltype for mileage are `Diesel` and `Petrol` respectively, it is popular and mostly used in all brands.**"
   ]
  },
  {
   "cell_type": "code",
   "execution_count": null,
   "metadata": {
    "execution": {
     "iopub.execute_input": "2021-10-20T02:04:18.019084Z",
     "iopub.status.busy": "2021-10-20T02:04:18.018242Z",
     "iopub.status.idle": "2021-10-20T02:04:20.212708Z",
     "shell.execute_reply": "2021-10-20T02:04:20.211548Z",
     "shell.execute_reply.started": "2021-10-20T02:04:18.019036Z"
    }
   },
   "outputs": [],
   "source": [
    "sns.set_theme(style=\"darkgrid\")\n",
    "plt.figure(figsize=(10,5))\n",
    "sns.barplot(x='brand',y='mileage',data=df,hue='transmission')\n",
    "plt.xlabel('Brand',fontsize=15)\n",
    "plt.ylabel('Mileage',fontsize=15)\n",
    "plt.legend(bbox_to_anchor=(1.2,1.0),title='Transmission')\n",
    "plt.grid(True)\n",
    "plt.show();"
   ]
  },
  {
   "cell_type": "markdown",
   "metadata": {},
   "source": [
    "**The `Manual` and `Automatic` transmission are common and mostly used in all brands with respect to `mileage`.**"
   ]
  },
  {
   "cell_type": "code",
   "execution_count": null,
   "metadata": {
    "execution": {
     "iopub.execute_input": "2021-10-20T02:04:20.214780Z",
     "iopub.status.busy": "2021-10-20T02:04:20.214474Z",
     "iopub.status.idle": "2021-10-20T02:04:22.304669Z",
     "shell.execute_reply": "2021-10-20T02:04:22.303578Z",
     "shell.execute_reply.started": "2021-10-20T02:04:20.214737Z"
    }
   },
   "outputs": [],
   "source": [
    "sns.set_theme(style=\"darkgrid\")\n",
    "plt.figure(figsize=(10,5))\n",
    "sns.barplot(x='brand',y='tax',data=df,hue='transmission',palette='tab20')\n",
    "plt.xlabel('Brand',fontsize=15)\n",
    "plt.ylabel('Tax',fontsize=15)\n",
    "plt.legend(bbox_to_anchor=(1.2,1.0),title='Transmission')\n",
    "plt.grid(True)\n",
    "plt.show();"
   ]
  },
  {
   "cell_type": "markdown",
   "metadata": {},
   "source": [
    "**Brand with `Automatic` transmission pays more `tax` and `Manual` transmission has low paying `tax` capability.**"
   ]
  },
  {
   "cell_type": "code",
   "execution_count": null,
   "metadata": {
    "execution": {
     "iopub.execute_input": "2021-10-20T02:04:22.306199Z",
     "iopub.status.busy": "2021-10-20T02:04:22.305969Z",
     "iopub.status.idle": "2021-10-20T02:04:24.583643Z",
     "shell.execute_reply": "2021-10-20T02:04:24.582511Z",
     "shell.execute_reply.started": "2021-10-20T02:04:22.306171Z"
    }
   },
   "outputs": [],
   "source": [
    "sns.set_theme(style=\"darkgrid\")\n",
    "plt.figure(figsize=(10,5))\n",
    "sns.barplot(x='brand',y='tax',data=df,hue='fuelType',palette='tab10')\n",
    "plt.xlabel('Brand',fontsize=15)\n",
    "plt.ylabel('Tax',fontsize=15)\n",
    "plt.legend(bbox_to_anchor=(1.2,1.0),title='FuelType')\n",
    "plt.grid(True)\n",
    "plt.show();"
   ]
  },
  {
   "cell_type": "markdown",
   "metadata": {},
   "source": [
    "**Brand With `Petrol` fueltype pays more tax and the second most payed tax is by `Diesel` fueltype.**"
   ]
  },
  {
   "cell_type": "code",
   "execution_count": null,
   "metadata": {
    "execution": {
     "iopub.execute_input": "2021-10-20T02:04:24.585136Z",
     "iopub.status.busy": "2021-10-20T02:04:24.584886Z",
     "iopub.status.idle": "2021-10-20T02:04:31.568832Z",
     "shell.execute_reply": "2021-10-20T02:04:31.567911Z",
     "shell.execute_reply.started": "2021-10-20T02:04:24.585106Z"
    }
   },
   "outputs": [],
   "source": [
    "plt.figure(figsize=(15,5))\n",
    "sns.relplot(x='price',y='year',data=df,hue='fuelType',palette=['green','lightblue','yellow','red','black'])\n",
    "plt.xlabel(\"Price\")\n",
    "plt.ylabel(\"Year\")\n",
    "plt.xticks(rotation=90)\n",
    "plt.grid(True)\n",
    "plt.show();"
   ]
  },
  {
   "cell_type": "markdown",
   "metadata": {},
   "source": [
    "<a id=\"10\"></a>\n",
    "<div class=\"list-group\" id=\"1\" role=\"tablist\">\n",
    "<p style=\"padding: 20px; background-color:yellow;color: Black;font-weight: bold;\n",
    "              text-align: center; font-size:250%;border-radius:20px 80px;\">Split Dataset into Training and Testing</p>"
   ]
  },
  {
   "cell_type": "code",
   "execution_count": null,
   "metadata": {
    "execution": {
     "iopub.execute_input": "2021-10-20T02:04:31.570817Z",
     "iopub.status.busy": "2021-10-20T02:04:31.570514Z",
     "iopub.status.idle": "2021-10-20T02:04:31.604247Z",
     "shell.execute_reply": "2021-10-20T02:04:31.603381Z",
     "shell.execute_reply.started": "2021-10-20T02:04:31.570775Z"
    }
   },
   "outputs": [],
   "source": [
    "X = df_transformed.drop('price',axis=1)\n",
    "y = df_transformed['price']\n",
    "\n",
    "X_train,X_test,y_train,y_test = train_test_split(X,y,test_size=0.3,random_state=42)\n",
    "\n",
    "len(X_train),len(X_test),len(y_train),len(y_test)"
   ]
  },
  {
   "cell_type": "markdown",
   "metadata": {},
   "source": [
    "<a id=\"11\"></a>\n",
    "<div class=\"list-group\" id=\"1\" role=\"tablist\">\n",
    "<p style=\"padding: 20px; background-color:yellow;color: Black;font-weight: bold;\n",
    "              text-align: center; font-size:250%;border-radius:20px 80px;\">Modelling</p>"
   ]
  },
  {
   "cell_type": "code",
   "execution_count": null,
   "metadata": {
    "execution": {
     "iopub.execute_input": "2021-10-20T02:04:31.606010Z",
     "iopub.status.busy": "2021-10-20T02:04:31.605734Z",
     "iopub.status.idle": "2021-10-20T02:04:31.615349Z",
     "shell.execute_reply": "2021-10-20T02:04:31.614561Z",
     "shell.execute_reply.started": "2021-10-20T02:04:31.605975Z"
    }
   },
   "outputs": [],
   "source": [
    "# Create model and train\n",
    "def models_score(models,X_train,X_test,y_train,y_test):\n",
    "    scores = {}\n",
    "    \n",
    "    for name, model in models.items():\n",
    "        model.fit(X_train,y_train)\n",
    "        y_pred = model.predict(X_test)\n",
    "        scores[name] = r2_score(y_test,y_pred)\n",
    "        \n",
    "        # printing the model name and accuracy\n",
    "        print(\"Model name: \",model)\n",
    "        print(\"R2 score : \",r2_score(y_test,y_pred))\n",
    "        print(\"Mean Absolute Error : \",mean_absolute_error(y_test,y_pred))\n",
    "        print(\"Mean Squared Error : \",mean_squared_error(y_test,y_pred))\n",
    "\n",
    "        print(\"\\n<<<<------------------------------------------------------------->>>>\\n\")\n",
    "        \n",
    "    model_scores = pd.DataFrame(scores, index=['R2 Score']).T\n",
    "    model_scores = model_scores.sort_values('R2 Score',ascending=False)\n",
    "    return model_scores\n",
    "        "
   ]
  },
  {
   "cell_type": "code",
   "execution_count": null,
   "metadata": {
    "execution": {
     "iopub.execute_input": "2021-10-20T02:07:47.854148Z",
     "iopub.status.busy": "2021-10-20T02:07:47.853852Z",
     "iopub.status.idle": "2021-10-20T02:07:47.881601Z",
     "shell.execute_reply": "2021-10-20T02:07:47.880679Z",
     "shell.execute_reply.started": "2021-10-20T02:07:47.854110Z"
    }
   },
   "outputs": [],
   "source": [
    "# Initialize the models\n",
    "np.random.seed(42)\n",
    "models = {\"LinearRegression\":LinearRegression(),\n",
    "          \"GradiantBoost\":GradientBoostingRegressor(),\n",
    "         \"RandomForest\":RandomForestRegressor(),\n",
    "         \"XgBoost\": XGBRegressor(verbose=0),\n",
    "         \"DecisionTreeRegressor\":DecisionTreeRegressor(),\n",
    "         \"CatBoost\":CatBoostRegressor(verbose=0),\n",
    "         \"LightGBM\":LGBMRegressor()}"
   ]
  },
  {
   "cell_type": "code",
   "execution_count": null,
   "metadata": {
    "execution": {
     "iopub.execute_input": "2021-10-20T02:07:48.951495Z",
     "iopub.status.busy": "2021-10-20T02:07:48.951177Z",
     "iopub.status.idle": "2021-10-20T02:08:36.907972Z",
     "shell.execute_reply": "2021-10-20T02:08:36.906591Z",
     "shell.execute_reply.started": "2021-10-20T02:07:48.951458Z"
    }
   },
   "outputs": [],
   "source": [
    "model_scores = models_score(models,X_train,X_test,y_train,y_test)\n",
    "model_scores"
   ]
  },
  {
   "cell_type": "markdown",
   "metadata": {},
   "source": [
    "<a id=\"12\"></a>\n",
    "<div class=\"list-group\" id=\"1\" role=\"tablist\">\n",
    "<p style=\"padding: 20px; background-color:yellow;color: Black;font-weight: bold;\n",
    "              text-align: center; font-size:250%;border-radius:20px 80px;\">Evaluation Metric</p>"
   ]
  },
  {
   "cell_type": "code",
   "execution_count": null,
   "metadata": {
    "execution": {
     "iopub.execute_input": "2021-10-20T02:08:54.688150Z",
     "iopub.status.busy": "2021-10-20T02:08:54.687832Z",
     "iopub.status.idle": "2021-10-20T02:08:54.703620Z",
     "shell.execute_reply": "2021-10-20T02:08:54.702752Z",
     "shell.execute_reply.started": "2021-10-20T02:08:54.688098Z"
    }
   },
   "outputs": [],
   "source": [
    "model_scores = model_scores.reset_index().rename({\"index\":\"Models\"},axis=1)\n",
    "model_scores.style.bar()"
   ]
  },
  {
   "cell_type": "code",
   "execution_count": null,
   "metadata": {
    "execution": {
     "iopub.execute_input": "2021-10-20T02:09:01.894532Z",
     "iopub.status.busy": "2021-10-20T02:09:01.894188Z",
     "iopub.status.idle": "2021-10-20T02:09:02.868200Z",
     "shell.execute_reply": "2021-10-20T02:09:02.867258Z",
     "shell.execute_reply.started": "2021-10-20T02:09:01.894494Z"
    }
   },
   "outputs": [],
   "source": [
    "fig = px.bar(data_frame = model_scores,\n",
    "             x=\"Models\",\n",
    "             y=\"R2 Score\",\n",
    "             color=\"Models\", title = \"<b>Models Score</b>\", template = 'plotly_dark')\n",
    "\n",
    "fig.update_layout(bargap=0.2)\n",
    "\n",
    "fig.show()"
   ]
  },
  {
   "cell_type": "code",
   "execution_count": null,
   "metadata": {
    "execution": {
     "iopub.execute_input": "2021-10-20T02:09:07.518950Z",
     "iopub.status.busy": "2021-10-20T02:09:07.518632Z",
     "iopub.status.idle": "2021-10-20T02:09:07.594303Z",
     "shell.execute_reply": "2021-10-20T02:09:07.593360Z",
     "shell.execute_reply.started": "2021-10-20T02:09:07.518913Z"
    }
   },
   "outputs": [],
   "source": [
    "label = model_scores['Models']\n",
    "value = model_scores['R2 Score']\n",
    "\n",
    "\n",
    "fig = go.Figure(data=[go.Pie(labels = label, values = value, rotation = 90)])\n",
    "\n",
    "fig.update_traces(textposition='inside',\n",
    "                  textinfo='percent+label',\n",
    "                  marker=dict(line=dict(color='#000000', width = 1.5)))\n",
    "\n",
    "fig.update_layout(title_x=0.5,\n",
    "                  title_font=dict(size=20),\n",
    "                  uniformtext_minsize=15,template='plotly_dark')\n",
    "\n",
    "\n",
    "fig.show()"
   ]
  },
  {
   "cell_type": "markdown",
   "metadata": {},
   "source": [
    "### Predicting on unseen data with our best performing model"
   ]
  },
  {
   "cell_type": "code",
   "execution_count": null,
   "metadata": {
    "execution": {
     "iopub.execute_input": "2021-10-20T02:09:09.746375Z",
     "iopub.status.busy": "2021-10-20T02:09:09.746075Z",
     "iopub.status.idle": "2021-10-20T02:09:15.785840Z",
     "shell.execute_reply": "2021-10-20T02:09:15.784950Z",
     "shell.execute_reply.started": "2021-10-20T02:09:09.746342Z"
    }
   },
   "outputs": [],
   "source": [
    "\n",
    "model = CatBoostRegressor(verbose=0)\n",
    "model.fit(X_train,y_train)\n"
   ]
  },
  {
   "cell_type": "markdown",
   "metadata": {},
   "source": [
    " **model = 70, \n",
    " year = 2006,\n",
    " transmission.automatic = 4,\n",
    " fuelType.petrol = 1,\n",
    " tax = 305.0,\n",
    " mpg = 58.0,\n",
    " enginesize = 4.4,\n",
    " brand.bmw = 1**"
   ]
  },
  {
   "cell_type": "code",
   "execution_count": null,
   "metadata": {
    "execution": {
     "iopub.execute_input": "2021-10-20T02:09:20.828886Z",
     "iopub.status.busy": "2021-10-20T02:09:20.828141Z",
     "iopub.status.idle": "2021-10-20T02:09:20.843749Z",
     "shell.execute_reply": "2021-10-20T02:09:20.842598Z",
     "shell.execute_reply.started": "2021-10-20T02:09:20.828839Z"
    }
   },
   "outputs": [],
   "source": [
    "features = [70,2006,4,16356,1,305.0,58.0,4.4,1]\n",
    "y_pred = model.predict(features)\n",
    "print(f\"Price in euros : {y_pred}\")"
   ]
  },
  {
   "cell_type": "markdown",
   "metadata": {},
   "source": [
    "<a id=\"13\"></a>\n",
    "<div class=\"list-group\" id=\"1\" role=\"tablist\">\n",
    "<p style=\"padding: 20px; background-color:yellow;color: Black;font-weight: bold;\n",
    "              text-align: center; font-size:250%;border-radius:20px 80px;\">Feature Importance</p>"
   ]
  },
  {
   "cell_type": "code",
   "execution_count": null,
   "metadata": {
    "execution": {
     "iopub.execute_input": "2021-10-20T02:09:24.946787Z",
     "iopub.status.busy": "2021-10-20T02:09:24.946478Z",
     "iopub.status.idle": "2021-10-20T02:09:24.956228Z",
     "shell.execute_reply": "2021-10-20T02:09:24.955056Z",
     "shell.execute_reply.started": "2021-10-20T02:09:24.946756Z"
    }
   },
   "outputs": [],
   "source": [
    "# Print the name and gini importance of each features \n",
    "for feature in zip(df.columns,model.feature_importances_):\n",
    "    print(feature)"
   ]
  },
  {
   "cell_type": "code",
   "execution_count": null,
   "metadata": {
    "execution": {
     "iopub.execute_input": "2021-10-20T02:09:28.189563Z",
     "iopub.status.busy": "2021-10-20T02:09:28.189113Z",
     "iopub.status.idle": "2021-10-20T02:09:28.499541Z",
     "shell.execute_reply": "2021-10-20T02:09:28.498270Z",
     "shell.execute_reply.started": "2021-10-20T02:09:28.189511Z"
    }
   },
   "outputs": [],
   "source": [
    "# # visualize feature importance\n",
    "feature_dict = dict(zip(df.columns,list(model.feature_importances_)))\n",
    "feature_df = pd.DataFrame(feature_dict,index=[0])\n",
    "feature_df.T.plot.bar(title=\"Feature Importance\",legend=False);"
   ]
  },
  {
   "cell_type": "markdown",
   "metadata": {},
   "source": [
    "<div class=\"list-group\" id=\"1\" role=\"tablist\">\n",
    "<p style=\"padding: 20px; background-color:green;color: Black;font-weight: bold;\n",
    "              text-align: center; font-size:250%;border-radius:20px 80px;\">End🔚</p>"
   ]
  },
  {
   "cell_type": "code",
   "execution_count": null,
   "metadata": {},
   "outputs": [],
   "source": []
  },
  {
   "cell_type": "code",
   "execution_count": null,
   "metadata": {},
   "outputs": [],
   "source": []
  }
 ],
 "metadata": {
  "kernelspec": {
   "display_name": "Python 3 (ipykernel)",
   "language": "python",
   "name": "python3"
  },
  "language_info": {
   "codemirror_mode": {
    "name": "ipython",
    "version": 3
   },
   "file_extension": ".py",
   "mimetype": "text/x-python",
   "name": "python",
   "nbconvert_exporter": "python",
   "pygments_lexer": "ipython3",
   "version": "3.9.0rc1"
  }
 },
 "nbformat": 4,
 "nbformat_minor": 4
}
